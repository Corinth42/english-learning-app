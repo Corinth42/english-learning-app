{
 "cells": [
  {
   "cell_type": "code",
   "execution_count": 2,
   "id": "157322d6",
   "metadata": {},
   "outputs": [],
   "source": [
    "import os\n",
    "import shutil\n",
    "import glob\n",
    "\n",
    "# outputディレクトリのパス\n",
    "output_dir = '/Users/fungi/Documents/Project/CERTO/enVocab/output'\n",
    "\n",
    "# group{1~28の数字}_20250313から始まるcsvファイルを検索\n",
    "csv_files = glob.glob(os.path.join(output_dir, 'group[1-9]_20250313*.csv')) + \\\n",
    "            glob.glob(os.path.join(output_dir, 'group1[0-9]_20250313*.csv')) + \\\n",
    "            glob.glob(os.path.join(output_dir, 'group2[0-8]_20250313*.csv'))\n",
    "\n",
    "# ファイル名を変換して現在のディレクトリに保存\n",
    "for file_path in csv_files:\n",
    "    # 元のファイル名\n",
    "    file_name = os.path.basename(file_path)\n",
    "    \n",
    "    # 新しいファイル名を生成\n",
    "    new_file_name = file_name.split('_')[0] + '.csv'\n",
    "    \n",
    "    # 現在のディレクトリにコピー\n",
    "    shutil.copy(file_path, new_file_name)"
   ]
  }
 ],
 "metadata": {
  "kernelspec": {
   "display_name": "py38",
   "language": "python",
   "name": "python3"
  },
  "language_info": {
   "codemirror_mode": {
    "name": "ipython",
    "version": 3
   },
   "file_extension": ".py",
   "mimetype": "text/x-python",
   "name": "python",
   "nbconvert_exporter": "python",
   "pygments_lexer": "ipython3",
   "version": "3.8.13"
  }
 },
 "nbformat": 4,
 "nbformat_minor": 5
}
